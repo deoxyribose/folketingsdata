{
 "cells": [
  {
   "cell_type": "code",
   "execution_count": 1,
   "metadata": {},
   "outputs": [],
   "source": [
    "from aeneas.executetask import ExecuteTask\n",
    "from aeneas.task import Task\n",
    "import os"
   ]
  },
  {
   "cell_type": "code",
   "execution_count": 2,
   "metadata": {},
   "outputs": [],
   "source": [
    "#path = '/home/folzd/Tale/'\n",
    "path = '/home/folzd/Desktop/'"
   ]
  },
  {
   "cell_type": "code",
   "execution_count": 3,
   "metadata": {},
   "outputs": [],
   "source": [
    "textfiles = [f for f in os.listdir(path) if f.endswith('4684.txt')]\n",
    "#audiofiles = [f for f in os.listdir(path) if f.endswith('.wav')]\n",
    "audiofiles = [f for f in os.listdir(path) if f.endswith('.mp3')]"
   ]
  },
  {
   "cell_type": "code",
   "execution_count": 4,
   "metadata": {},
   "outputs": [],
   "source": [
    "files = zip(sorted(textfiles), sorted(audiofiles))"
   ]
  },
  {
   "cell_type": "code",
   "execution_count": 5,
   "metadata": {},
   "outputs": [],
   "source": [
    "def forcedAlign(audiofile,textfile):\n",
    "    # create Task object\n",
    "    config_string = u\"task_language=dan|is_text_type=plain|os_task_file_format=json\"\n",
    "    task = Task(config_string=config_string)\n",
    "    task.audio_file_path_absolute = audiofile\n",
    "    \n",
    "    task.text_file_path_absolute = textfile\n",
    "    task.sync_map_file_path_absolute = audiofile[:-4]+\".json\"\n",
    "\n",
    "    # process Task\n",
    "    ExecuteTask(task).execute()\n",
    "\n",
    "    # output sync map to file\n",
    "    task.output_sync_map_file()"
   ]
  },
  {
   "cell_type": "code",
   "execution_count": 6,
   "metadata": {},
   "outputs": [
    {
     "name": "stdout",
     "output_type": "stream",
     "text": [
      "møde108_aeneas_data_4684.txt\n"
     ]
    }
   ],
   "source": [
    "for (t,a) in files:\n",
    "    print(t)\n",
    "    # note that this notebook has to be in the same folder as the sound file, or you get OSError\n",
    "    forcedAlign(a,t)"
   ]
  }
 ],
 "metadata": {
  "kernelspec": {
   "display_name": "Python 3",
   "language": "python",
   "name": "python3"
  },
  "language_info": {
   "codemirror_mode": {
    "name": "ipython",
    "version": 3
   },
   "file_extension": ".py",
   "mimetype": "text/x-python",
   "name": "python",
   "nbconvert_exporter": "python",
   "pygments_lexer": "ipython3",
   "version": "3.6.5"
  }
 },
 "nbformat": 4,
 "nbformat_minor": 2
}
