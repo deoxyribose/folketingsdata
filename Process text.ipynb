{
 "cells": [
  {
   "cell_type": "code",
   "execution_count": 1,
   "metadata": {},
   "outputs": [],
   "source": [
    "import spacy\n",
    "import pprint as pp\n",
    "import os\n",
    "import sys\n",
    "from nltk.tokenize import sent_tokenize\n",
    "import re\n"
   ]
  },
  {
   "cell_type": "code",
   "execution_count": 2,
   "metadata": {},
   "outputs": [],
   "source": [
    "path = '/home/folzd/Desktop/'\n",
    "#path = '/home/folzd/Tale/danish_fairytales_0805_librivox_64kb_mp3/'"
   ]
  },
  {
   "cell_type": "code",
   "execution_count": 3,
   "metadata": {},
   "outputs": [],
   "source": [
    "def process(filename):\n",
    "    spurious_periods = map(str,range(1,32))\n",
    "    abbreviations = ['stk', 'jf', 'pr', 'pkt', 'nr', 'kr', 'mia', 'Hr', 'hr', 'f.eks', 'bl.a']\n",
    "    one_capital_letter_abbreviations = 'ABCDEFGHIJKLMNOPQRSTVWXYZ'\n",
    "    spurious_periods.extend(list(one_capital_letter_abbreviations))\n",
    "    spurious_periods.extend(abbreviations)\n",
    "    with open(path+filename, 'r') as f: \n",
    "        data = f.read().decode(\"utf-8\")\n",
    "    for spurious_period in spurious_periods:\n",
    "        data = data.replace(' '+spurious_period+'.',' '+spurious_period.replace('.',''))\n",
    "    data = data.replace('www.ft.dk','wwwftdk')\n",
    "    ## pattern: Upercase, then anything that is not in (\\-;.!?), then one of them\n",
    "    paragraphs = re.findall(r'([A-Za-z][^\\-;.!?]*[\\-;.!?])', data)\n",
    "    #paragraphs = data.split(\"\\n\\n\")\n",
    "    paragraph_sentence_list = []\n",
    "    for paragraph in paragraphs:\n",
    "        paragraph = paragraph.replace(\"\\n\", \" \")\n",
    "        paragraph = paragraph.replace(\"--\", \"\")\n",
    "        paragraph = paragraph.replace(u'\\u00A7', \"\")\n",
    "        paragraph = paragraph.replace(\".\", \"\")\n",
    "        paragraph = paragraph.replace(\"!\", \"\")\n",
    "        paragraph = paragraph.replace(\"?\", \"\")\n",
    "        paragraph = paragraph.replace(\",\", \"\")\n",
    "        paragraph = re.sub(r'[\\xc9]', 'E', paragraph)\n",
    "        paragraph = re.sub(r'[\\xe9]', 'e', paragraph) # som i \"idéen\"\n",
    "        #paragraph = re.sub(r'[^a-zA-Z0-9_*.,?!äöèÄÖÈÉçëË]', ' ', paragraph)\n",
    "        paragraph = re.sub(r'[^a-zA-Z0-9_*.,?!åäøöèØÆÅÄÖÈÉçëË\\xe5\\xc5\\xc6\\xe6\\xf8\\xd8]', ' ', paragraph)\n",
    "        paragraph_sentence_list.append(sent_tokenize(paragraph))\n",
    "    text = \"\"\n",
    "    count = 0\n",
    "    for paragraph in paragraph_sentence_list:\n",
    "        count += 1\n",
    "        text += \"\\n\".join(paragraph)\n",
    "        text += \"\\n\\n\"    \n",
    "    with open(path+filename[:-4]+\"_aeneas_data_\"+str(count)+\".txt\", \"w\") as fw:\n",
    "        fw.write(text.encode(\"utf-8\"))"
   ]
  },
  {
   "cell_type": "code",
   "execution_count": 4,
   "metadata": {},
   "outputs": [],
   "source": [
    "onlyfiles = [f for f in os.listdir(path) if f.endswith('txt')]"
   ]
  },
  {
   "cell_type": "code",
   "execution_count": 5,
   "metadata": {},
   "outputs": [
    {
     "data": {
      "text/plain": [
       "['m\\xc3\\xb8de108.txt']"
      ]
     },
     "execution_count": 5,
     "metadata": {},
     "output_type": "execute_result"
    }
   ],
   "source": [
    "onlyfiles"
   ]
  },
  {
   "cell_type": "code",
   "execution_count": 6,
   "metadata": {
    "scrolled": false
   },
   "outputs": [],
   "source": [
    "for filename in onlyfiles:\n",
    "    process(filename)"
   ]
  }
 ],
 "metadata": {
  "kernelspec": {
   "display_name": "py3",
   "language": "python",
   "name": "py3"
  },
  "language_info": {
   "codemirror_mode": {
    "name": "ipython",
    "version": 2
   },
   "file_extension": ".py",
   "mimetype": "text/x-python",
   "name": "python",
   "nbconvert_exporter": "python",
   "pygments_lexer": "ipython2",
   "version": "2.7.12"
  }
 },
 "nbformat": 4,
 "nbformat_minor": 2
}
